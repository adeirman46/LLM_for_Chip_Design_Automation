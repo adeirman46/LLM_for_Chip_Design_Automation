{
 "cells": [
  {
   "cell_type": "code",
   "execution_count": 2,
   "metadata": {},
   "outputs": [
    {
     "name": "stdout",
     "output_type": "stream",
     "text": [
      "Requirement already satisfied: huggingface_hub in /home/irman/anaconda3/envs/llm_env/lib/python3.11/site-packages (0.33.1)\n",
      "Requirement already satisfied: filelock in /home/irman/anaconda3/envs/llm_env/lib/python3.11/site-packages (from huggingface_hub) (3.16.1)\n",
      "Requirement already satisfied: fsspec>=2023.5.0 in /home/irman/anaconda3/envs/llm_env/lib/python3.11/site-packages (from huggingface_hub) (2024.10.0)\n",
      "Requirement already satisfied: packaging>=20.9 in /home/irman/anaconda3/envs/llm_env/lib/python3.11/site-packages (from huggingface_hub) (24.2)\n",
      "Requirement already satisfied: pyyaml>=5.1 in /home/irman/anaconda3/envs/llm_env/lib/python3.11/site-packages (from huggingface_hub) (6.0.2)\n",
      "Requirement already satisfied: requests in /home/irman/anaconda3/envs/llm_env/lib/python3.11/site-packages (from huggingface_hub) (2.32.3)\n",
      "Requirement already satisfied: tqdm>=4.42.1 in /home/irman/anaconda3/envs/llm_env/lib/python3.11/site-packages (from huggingface_hub) (4.66.4)\n",
      "Requirement already satisfied: typing-extensions>=3.7.4.3 in /home/irman/anaconda3/envs/llm_env/lib/python3.11/site-packages (from huggingface_hub) (4.12.2)\n",
      "Requirement already satisfied: hf-xet<2.0.0,>=1.1.2 in /home/irman/anaconda3/envs/llm_env/lib/python3.11/site-packages (from huggingface_hub) (1.1.5)\n",
      "Requirement already satisfied: charset-normalizer<4,>=2 in /home/irman/anaconda3/envs/llm_env/lib/python3.11/site-packages (from requests->huggingface_hub) (3.4.0)\n",
      "Requirement already satisfied: idna<4,>=2.5 in /home/irman/anaconda3/envs/llm_env/lib/python3.11/site-packages (from requests->huggingface_hub) (3.10)\n",
      "Requirement already satisfied: urllib3<3,>=1.21.1 in /home/irman/anaconda3/envs/llm_env/lib/python3.11/site-packages (from requests->huggingface_hub) (2.2.3)\n",
      "Requirement already satisfied: certifi>=2017.4.17 in /home/irman/anaconda3/envs/llm_env/lib/python3.11/site-packages (from requests->huggingface_hub) (2024.12.14)\n"
     ]
    },
    {
     "data": {
      "application/vnd.jupyter.widget-view+json": {
       "model_id": "417b40861e8f47149719a2fa8bfb2e31",
       "version_major": 2,
       "version_minor": 0
      },
      "text/plain": [
       "VBox(children=(HTML(value='<center> <img\\nsrc=https://huggingface.co/front/assets/huggingface_logo-noborder.sv…"
      ]
     },
     "metadata": {},
     "output_type": "display_data"
    },
    {
     "name": "stdout",
     "output_type": "stream",
     "text": [
      "\n",
      "Downloading model: ishorn5/RTLCoder-Deepseek-v1.1...\n"
     ]
    },
    {
     "data": {
      "application/vnd.jupyter.widget-view+json": {
       "model_id": "ad35906b65fa4f3b91e0673d8120834f",
       "version_major": 2,
       "version_minor": 0
      },
      "text/plain": [
       "Fetching 10 files:   0%|          | 0/10 [00:00<?, ?it/s]"
      ]
     },
     "metadata": {},
     "output_type": "display_data"
    },
    {
     "name": "stdout",
     "output_type": "stream",
     "text": [
      "\n",
      "✅ Model downloaded successfully!\n",
      "Files are located in: /home/irman/.cache/huggingface/hub/models--ishorn5--RTLCoder-Deepseek-v1.1/snapshots/0e2a613d4fff24c110ebf27d15151f20d480f8b6\n"
     ]
    }
   ],
   "source": [
    "# Install the necessary library if you haven't already\n",
    "!pip install huggingface_hub\n",
    "\n",
    "from huggingface_hub import snapshot_download, login\n",
    "import os\n",
    "\n",
    "# --- Secure Login ---\n",
    "# It is highly recommended to log in securely.\n",
    "# Running this will prompt you to enter your new, private Hugging Face token.\n",
    "try:\n",
    "    login()\n",
    "except Exception as e:\n",
    "    print(f\"Login failed. Please ensure you have a valid token. Error: {e}\")\n",
    "    # You can also try to get the token from an environment variable as a fallback\n",
    "    HF_TOKEN = os.environ.get(\"HF_TOKEN\")\n",
    "    if not HF_TOKEN:\n",
    "        print(\"HF_TOKEN environment variable not set.\")\n",
    "    else:\n",
    "        login(token=HF_TOKEN)\n",
    "\n",
    "\n",
    "# --- Download the Model ---\n",
    "# The model repository ID from Hugging Face\n",
    "model_id = \"ishorn5/RTLCoder-Deepseek-v1.1\"\n",
    "\n",
    "print(f\"\\nDownloading model: {model_id}...\")\n",
    "\n",
    "try:\n",
    "    # This function downloads all files from the repository to a local cache directory\n",
    "    # and returns the path to that directory.\n",
    "    model_path = snapshot_download(repo_id=model_id)\n",
    "    \n",
    "    print(\"\\n✅ Model downloaded successfully!\")\n",
    "    print(f\"Files are located in: {model_path}\")\n",
    "\n",
    "except Exception as e:\n",
    "    print(f\"\\n❌ An error occurred during download: {e}\")"
   ]
  },
  {
   "cell_type": "code",
   "execution_count": null,
   "metadata": {},
   "outputs": [],
   "source": []
  }
 ],
 "metadata": {
  "kernelspec": {
   "display_name": "llm_env",
   "language": "python",
   "name": "python3"
  },
  "language_info": {
   "codemirror_mode": {
    "name": "ipython",
    "version": 3
   },
   "file_extension": ".py",
   "mimetype": "text/x-python",
   "name": "python",
   "nbconvert_exporter": "python",
   "pygments_lexer": "ipython3",
   "version": "3.11.11"
  }
 },
 "nbformat": 4,
 "nbformat_minor": 2
}
